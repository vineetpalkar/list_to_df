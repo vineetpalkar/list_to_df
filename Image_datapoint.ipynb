{
 "cells": [
  {
   "cell_type": "code",
   "execution_count": 36,
   "id": "23aa3eda",
   "metadata": {},
   "outputs": [],
   "source": [
    "import numpy as np\n",
    "import pandas as pd\n",
    "import os"
   ]
  },
  {
   "cell_type": "code",
   "execution_count": 2,
   "id": "36669751",
   "metadata": {},
   "outputs": [],
   "source": [
    "os.chdir(\"F:/iAnalyst/X-Y-axis-data-points-extractor\")"
   ]
  },
  {
   "cell_type": "code",
   "execution_count": null,
   "id": "0c2a80ef",
   "metadata": {},
   "outputs": [],
   "source": []
  },
  {
   "cell_type": "code",
   "execution_count": 52,
   "id": "f8d35437",
   "metadata": {},
   "outputs": [],
   "source": [
    "def line_space():\n",
    "    d=pd.read_csv(\"datapoint.csv\")\n",
    "    df= d.copy()\n",
    "    data=list(df)\n",
    "    i=0\n",
    "    x=[]\n",
    "    y=[]\n",
    "    for i in range(0,len(data)):\n",
    "        if i%2!=0:               #Taking values of x\n",
    "            x.append(data[i])\n",
    "        else:                    #Taking values of y\n",
    "            y.append(data[i]) \n",
    "    x=pd.DataFrame(x)\n",
    "    y=pd.DataFrame(y)\n",
    "    #table= [x,y]\n",
    "    result= pd.concat([x,y],axis=1)\n",
    "    #len(result)\n",
    "    #Trying vertical split\n",
    "    n=1\n",
    "    for i in result:\n",
    "        if i%4==0:\n",
    "            n=len(result)/4\n",
    "        else:\n",
    "            pass\n",
    "    np.vsplit(result,n)\n"
   ]
  },
  {
   "cell_type": "code",
   "execution_count": 53,
   "id": "3bd8555d",
   "metadata": {},
   "outputs": [
    {
     "name": "stdout",
     "output_type": "stream",
     "text": [
      "None\n"
     ]
    }
   ],
   "source": []
  },
  {
   "cell_type": "code",
   "execution_count": 31,
   "id": "e15cd409",
   "metadata": {},
   "outputs": [
    {
     "data": {
      "text/plain": [
       "[     0    0\n",
       " 0  167  149\n",
       " 1  156  319\n",
       " 2  286  328\n",
       " 3  278  200,\n",
       "      0    0\n",
       " 4  102  608\n",
       " 5   86  934\n",
       " 6  249  929\n",
       " 7  282  642,\n",
       "       0      0\n",
       " 8   130    109\n",
       " 9   127    254\n",
       " 10  209  254.1\n",
       " 11  215    154,\n",
       "       0      0\n",
       " 12   97  156.1\n",
       " 13  106    360\n",
       " 14  233    374\n",
       " 15  262    191,\n",
       "       0    0\n",
       " 16  186  467\n",
       " 17  179  634\n",
       " 18  321  651\n",
       " 19  333  457,\n",
       "       0    0\n",
       " 20  161  448\n",
       " 21  150  694\n",
       " 22  354  726\n",
       " 23  348  487,\n",
       "         0    0\n",
       " 24  191.1  501\n",
       " 25    192  693\n",
       " 26    356  699\n",
       " 27    347  536,\n",
       "       0    0\n",
       " 28  145  228\n",
       " 29  142  645\n",
       " 30  515  615\n",
       " 31  534  238,\n",
       "       0      0\n",
       " 32   80     93\n",
       " 33   84    203\n",
       " 34  242  192.1\n",
       " 35  240    114,\n",
       "         0     0\n",
       " 36     47  86.1\n",
       " 37     74   201\n",
       " 38  142.1   204\n",
       " 39    146   107,\n",
       "         0    0\n",
       " 40    160  280\n",
       " 41  160.1  512\n",
       " 42  328.1  527\n",
       " 43    326  298,\n",
       "       0    0\n",
       " 44  117  406\n",
       " 45  119  760\n",
       " 46  334  784\n",
       " 47  338  414,\n",
       "         0      0\n",
       " 48     36     73\n",
       " 49     41    187\n",
       " 50  109.1  187.1\n",
       " 51  106.1     94,\n",
       "         0      0\n",
       " 52     69    131\n",
       " 53   69.1    489\n",
       " 54    277    481\n",
       " 55  262.1  186.1,\n",
       "         0     0\n",
       " 56    172   427\n",
       " 57  172.1   969\n",
       " 58    444  1046\n",
       " 59    474   441,\n",
       "         0      0\n",
       " 60  107.1  356.1\n",
       " 61     98    682\n",
       " 62    292  694.1\n",
       " 63    279    391,\n",
       "         0      0\n",
       " 64    104  106.2\n",
       " 65  102.1    435\n",
       " 66    332    418\n",
       " 67    322    159,\n",
       "         0       0\n",
       " 68  150.1     477\n",
       " 69    162    1013\n",
       " 70    470  1046.1\n",
       " 71    471     443,\n",
       "         0    0\n",
       " 72  114.1  400\n",
       " 73    123  649\n",
       " 74    214  643\n",
       " 75  204.1  404,\n",
       "       0    0\n",
       " 76  133  222\n",
       " 77  135  366\n",
       " 78  207  355\n",
       " 79  208  237,\n",
       "        0      0\n",
       " 80    37     91\n",
       " 81  37.1  161.1\n",
       " 82  93.1    166\n",
       " 83    78  102.2]"
      ]
     },
     "execution_count": 31,
     "metadata": {},
     "output_type": "execute_result"
    }
   ],
   "source": [
    "#Trying vertical split\n",
    "np.vsplit(result,21)"
   ]
  },
  {
   "cell_type": "code",
   "execution_count": 34,
   "id": "186da94a",
   "metadata": {},
   "outputs": [],
   "source": [
    "n=1\n",
    "for i in result:\n",
    "    if i%4==0:      \n",
    "        n=len(result)/4   #because len(result)= 84 and not 168. Therefore 84/4=21.\n",
    "    else:\n",
    "        pass"
   ]
  },
  {
   "cell_type": "code",
   "execution_count": 35,
   "id": "5a9c402a",
   "metadata": {},
   "outputs": [
    {
     "data": {
      "text/plain": [
       "21.0"
      ]
     },
     "execution_count": 35,
     "metadata": {},
     "output_type": "execute_result"
    }
   ],
   "source": []
  },
  {
   "cell_type": "code",
   "execution_count": null,
   "id": "bd45d5d2",
   "metadata": {},
   "outputs": [],
   "source": []
  }
 ],
 "metadata": {
  "kernelspec": {
   "display_name": "Python 3",
   "language": "python",
   "name": "python3"
  },
  "language_info": {
   "codemirror_mode": {
    "name": "ipython",
    "version": 3
   },
   "file_extension": ".py",
   "mimetype": "text/x-python",
   "name": "python",
   "nbconvert_exporter": "python",
   "pygments_lexer": "ipython3",
   "version": "3.8.8"
  }
 },
 "nbformat": 4,
 "nbformat_minor": 5
}
